{
 "cells": [
  {
   "cell_type": "markdown",
   "metadata": {
    "colab_type": "text",
    "id": "WBupqaJFuiC3"
   },
   "source": [
    "# Fundamentals\n",
    "\n",
    "\n",
    "\n"
   ]
  },
  {
   "cell_type": "markdown",
   "metadata": {
    "colab_type": "text",
    "id": "_MaBHYDIBLCl"
   },
   "source": [
    "## Stacks and Queues\n"
   ]
  },
  {
   "cell_type": "code",
   "execution_count": 1,
   "metadata": {
    "colab": {
     "base_uri": "https://localhost:8080/",
     "height": 34
    },
    "colab_type": "code",
    "id": "yZSwFgSWv2Ho",
    "outputId": "348cd312-0958-4c1d-db38-682e809e4f8f"
   },
   "outputs": [
    {
     "data": {
      "text/plain": [
       "'elem'"
      ]
     },
     "execution_count": 1,
     "metadata": {},
     "output_type": "execute_result"
    }
   ],
   "source": [
    "stack = []\n",
    "stack.append(\"elem\")\n",
    "stack.pop()"
   ]
  },
  {
   "cell_type": "code",
   "execution_count": 2,
   "metadata": {
    "colab": {
     "base_uri": "https://localhost:8080/",
     "height": 34
    },
    "colab_type": "code",
    "id": "h22qwbF1vrji",
    "outputId": "aec9973c-f574-4d94-ebdf-b30b3fcb5e80"
   },
   "outputs": [
    {
     "data": {
      "text/plain": [
       "'elem'"
      ]
     },
     "execution_count": 2,
     "metadata": {},
     "output_type": "execute_result"
    }
   ],
   "source": [
    "from collections import deque\n",
    "\n",
    "queue = deque()\n",
    "queue.append(\"elem\")\n",
    "queue.popleft()"
   ]
  },
  {
   "cell_type": "markdown",
   "metadata": {
    "colab_type": "text",
    "id": "8cVKFHbUvjDs"
   },
   "source": [
    "## Binary Search\n",
    "\n",
    "- Use when input is sorted\n",
    "- Other cases: \n",
    "  - Sorted rotated array \n",
    "  - Median of two sorted arrays\n",
    "  - Find kth element in two sorted arrays"
   ]
  },
  {
   "cell_type": "markdown",
   "metadata": {
    "colab_type": "text",
    "id": "Y7Jb8JnhEC8y"
   },
   "source": [
    "### Basic Binary Search"
   ]
  },
  {
   "cell_type": "code",
   "execution_count": 45,
   "metadata": {
    "colab": {},
    "colab_type": "code",
    "id": "TYZIsKJQv8-B"
   },
   "outputs": [],
   "source": [
    "def binary_search(arr, target):\n",
    "    low = 0\n",
    "    high = len(arr) - 1\n",
    "  \n",
    "    while low <= high:\n",
    "        mid = low + (high - low) // 2\n",
    "    \n",
    "        if arr[mid] == target:\n",
    "            return mid\n",
    "        elif arr[mid] < target:\n",
    "            low = mid + 1\n",
    "        else:\n",
    "            high = mid - 1\n",
    "\n",
    "    return \"Not Found\""
   ]
  },
  {
   "cell_type": "code",
   "execution_count": 46,
   "metadata": {
    "colab": {
     "base_uri": "https://localhost:8080/",
     "height": 68
    },
    "colab_type": "code",
    "id": "VgOsh0Umw3m_",
    "outputId": "ff15c3fe-a284-46e9-b7ba-535aff442b6f"
   },
   "outputs": [
    {
     "name": "stdout",
     "output_type": "stream",
     "text": [
      "5\n",
      "Not Found\n",
      "Not Found\n"
     ]
    }
   ],
   "source": [
    "# Test Cases\n",
    "print(binary_search([1,2,4,5,7,9], 9))\n",
    "print(binary_search([1,2,4,5,7,9], 101))\n",
    "print(binary_search([], 12))"
   ]
  },
  {
   "cell_type": "markdown",
   "metadata": {
    "colab_type": "text",
    "id": "ZYdbMJ19EI5U"
   },
   "source": [
    "### Binary Search in Sorted Rotated Array"
   ]
  },
  {
   "cell_type": "code",
   "execution_count": 49,
   "metadata": {
    "colab": {},
    "colab_type": "code",
    "id": "YYI840jdxDhP"
   },
   "outputs": [],
   "source": [
    "def binary_search_in_sorted_rotated(arr, target):\n",
    "    low = 0\n",
    "    high = len(arr) - 1\n",
    "  \n",
    "    while low <= high:\n",
    "        mid = low + (high - low) // 2\n",
    "\n",
    "        if arr[mid] == target:\n",
    "            return mid\n",
    "\n",
    "        if arr[low] < arr[mid]: # Left half is sorted\n",
    "            if arr[low] <= target < arr[mid]:\n",
    "                high = mid - 1\n",
    "            else:\n",
    "                low = mid + 1\n",
    "\n",
    "        else: # Right half is sorted\n",
    "            if arr[mid] < target <= arr[high]:\n",
    "                low = mid + 1\n",
    "            else:\n",
    "                high = mid - 1    \n",
    "\n",
    "    return \"Not Found\"  "
   ]
  },
  {
   "cell_type": "code",
   "execution_count": 50,
   "metadata": {
    "colab": {
     "base_uri": "https://localhost:8080/",
     "height": 102
    },
    "colab_type": "code",
    "id": "QSPW5lB-xksv",
    "outputId": "d8684ce5-bbb9-4f8e-976e-63f7e87c962f"
   },
   "outputs": [
    {
     "name": "stdout",
     "output_type": "stream",
     "text": [
      "2\n",
      "5\n",
      "0\n",
      "Not Found\n",
      "Not Found\n"
     ]
    }
   ],
   "source": [
    "# Test Cases\n",
    "print(binary_search_in_sorted_rotated([5,7,9,1,2,4], 9))\n",
    "print(binary_search_in_sorted_rotated([2,4,5,7,9,1], 1))\n",
    "print(binary_search_in_sorted_rotated([2,4,5,7,9,1], 2))\n",
    "print(binary_search_in_sorted_rotated([2,4,5,7,9,1], 101))\n",
    "print(binary_search_in_sorted_rotated([], 12))"
   ]
  },
  {
   "cell_type": "markdown",
   "metadata": {
    "colab_type": "text",
    "id": "jg5TJKqEENjB"
   },
   "source": [
    "### Median of Two Sorted Arrays"
   ]
  },
  {
   "cell_type": "code",
   "execution_count": 53,
   "metadata": {
    "colab": {},
    "colab_type": "code",
    "id": "SBIzinr0ynL6"
   },
   "outputs": [],
   "source": [
    "# If the array is even, median is the average of the two middle elements\n",
    "# https://www.youtube.com/watch?v=LPFhl65R7ww\n",
    "# position_x + position_y = (len(x) + len(y) + 1) // 2\n",
    "\n",
    "# if  max_left_x <= min_right_y    and   max_left_y <= min_right_x:\n",
    "  # Found\n",
    "\n",
    "# else if  max_left_x > min_right_y:\n",
    "  # Move left in x\n",
    "\n",
    "# else:\n",
    "  # Move right in x\n",
    "\n",
    "def median_of_two_sorted_arr(arr_a, arr_b):\n",
    "    x = arr_a if len(arr_a) <= len(arr_b) else arr_b # Shorter list\n",
    "    y = arr_b if len(arr_a) <= len(arr_b) else arr_a # Longer list\n",
    "  \n",
    "    low = 0\n",
    "    high = len(x) # Not len(x) - 1. We are looking at which position we can cut at\n",
    "                # and that can be between two indexes\n",
    "  \n",
    "    while low <= high:\n",
    "        x_partition_point = low + (high - low) // 2\n",
    "        y_partition_point = (len(x) + len(y) + 1) // 2 - x_partition_point\n",
    "\n",
    "        max_left_x = x[x_partition_point - 1] if x_partition_point > 0 else -float('inf')\n",
    "        min_right_x = x[x_partition_point] if x_partition_point < len(x) else float('inf')\n",
    "        max_left_y = y[y_partition_point - 1] if y_partition_point > 0 else -float('inf')\n",
    "        min_right_y = y[y_partition_point] if y_partition_point < len(y) else float('inf')\n",
    "\n",
    "        if  max_left_x <= min_right_y and max_left_y <= min_right_x:\n",
    "            # Valid partition found, compute median     \n",
    "            if (len(x) + len(y)) % 2 == 0:\n",
    "                return (max(max_left_x, max_left_y) + min(min_right_x, min_right_y)) / 2\n",
    "            else:\n",
    "                return max(max_left_x, max_left_y)\n",
    "\n",
    "        elif max_left_x > min_right_y:\n",
    "            high = x_partition_point - 1\n",
    "        else:\n",
    "            low = x_partition_point + 1\n",
    "\n",
    "    return \"Not Found\"\n",
    "   "
   ]
  },
  {
   "cell_type": "code",
   "execution_count": 54,
   "metadata": {
    "colab": {
     "base_uri": "https://localhost:8080/",
     "height": 68
    },
    "colab_type": "code",
    "id": "YcKmFOYN18dU",
    "outputId": "ee860da3-b936-4328-d971-0146322db1db"
   },
   "outputs": [
    {
     "name": "stdout",
     "output_type": "stream",
     "text": [
      "11\n",
      "10.0\n",
      "14.5\n"
     ]
    }
   ],
   "source": [
    "print(median_of_two_sorted_arr([1, 3, 8, 9, 15],   [7, 11, 18, 19 , 21, 25]))\n",
    "print(median_of_two_sorted_arr([1, 3, 8, 9],   [7, 11, 18, 19 , 21, 25]))\n",
    "print(median_of_two_sorted_arr([1, 2],   [7, 11, 18, 19 , 21, 25]))"
   ]
  },
  {
   "cell_type": "markdown",
   "metadata": {
    "colab_type": "text",
    "id": "zXQX2UNWEUsW"
   },
   "source": [
    "### K-th Element in Two Sorted Arrays"
   ]
  },
  {
   "cell_type": "code",
   "execution_count": 1,
   "metadata": {
    "colab": {},
    "colab_type": "code",
    "id": "gDngzi_x4x1g"
   },
   "outputs": [],
   "source": [
    "# This can be used to solve the median problem as well\n",
    "\n",
    "def kth_element(arr_a, arr_b, k):\n",
    "    if not arr_a:\n",
    "        return arr_b[k]\n",
    "    if not arr_b:\n",
    "        return arr_a[k]\n",
    "  \n",
    "    a_median_index = len(arr_a) // 2\n",
    "    b_median_index = len(arr_b) // 2\n",
    "    \n",
    "    a_median = arr_a[a_median_index]\n",
    "    b_median = arr_b[b_median_index]\n",
    "    \n",
    "    # k is greater than the number of elements on the left of the median indexes\n",
    "    if k > a_median_index + b_median_index:\n",
    "        # We cam safely discard all elements before a_median\n",
    "        if a_median < b_median:\n",
    "            return kth_element(arr_a[a_median_index + 1:], arr_b, k - a_median_index - 1)\n",
    "        else:\n",
    "            return kth_element(arr_a, arr_b[b_median_index + 1:], k - b_median_index - 1)\n",
    "     \n",
    "    else:\n",
    "        # We cam safely discard all elements after b_median\n",
    "        if a_median < b_median:\n",
    "            return kth_element(arr_a, arr_b[:b_median_index], k)\n",
    "        else:\n",
    "            return kth_element(arr_a[:a_median_index], arr_b, k)"
   ]
  },
  {
   "cell_type": "code",
   "execution_count": 2,
   "metadata": {
    "colab": {
     "base_uri": "https://localhost:8080/",
     "height": 153
    },
    "colab_type": "code",
    "id": "u9bbDIdxKTQ5",
    "outputId": "43f01831-8b96-4d09-9a8b-42700f896fe9"
   },
   "outputs": [
    {
     "name": "stdout",
     "output_type": "stream",
     "text": [
      "1\n",
      "2\n",
      "2\n",
      "3\n",
      "4\n",
      "6\n",
      "10\n",
      "11\n"
     ]
    }
   ],
   "source": [
    "print(kth_element([1,2,3,4], [2,6,10,11], 0))\n",
    "print(kth_element([1,2,3,4], [2,6,10,11], 1))\n",
    "print(kth_element([1,2,3,4], [2,6,10,11], 2))\n",
    "print(kth_element([1,2,3,4], [2,6,10,11], 3))\n",
    "print(kth_element([1,2,3,4], [2,6,10,11], 4))\n",
    "print(kth_element([1,2,3,4], [2,6,10,11], 5))\n",
    "print(kth_element([1,2,3,4], [2,6,10,11], 6))\n",
    "print(kth_element([1,2,3,4], [2,6,10,11], 7))"
   ]
  },
  {
   "cell_type": "markdown",
   "metadata": {
    "colab_type": "text",
    "id": "3zyHACnUMczA"
   },
   "source": [
    "## Sorting\n",
    "\n",
    " | Algorithm | Stable | In-place | Worst | Average | Best |\n",
    " | ---------------- | ---------- |---------- | --------- | ------------- | -------- |\n",
    " | Selection Sort | Yes | Yes | O(n<sup>2</sup>) | O(n<sup>2</sup>) | O(n<sup>2</sup>) |\n",
    " | Bubble Sort | Yes | Yes | O(n<sup>2</sup>) | O(n<sup>2</sup>) | O(n<sup>2</sup>) |\n",
    " | Insertion Sort | Yes | Yes | O(n<sup>2</sup>) | O(n<sup>2</sup>) | O(n) |\n",
    " | Heap Sort | No | No | O(nlogn) | O(nlogn) | O(nlogn) |\n",
    " | Merge Sort | Yes | Yes | O(nlogn) | O(nlogn) | O(nlogn) |\n",
    " | Quick Sort | Yes | Yes | O(n<sup>2</sup>) | O(nlogn) | O(nlogn) |"
   ]
  },
  {
   "cell_type": "markdown",
   "metadata": {
    "colab_type": "text",
    "id": "LwYwn1JdPsnh"
   },
   "source": [
    "### Selection Sort"
   ]
  },
  {
   "cell_type": "code",
   "execution_count": 3,
   "metadata": {
    "colab": {},
    "colab_type": "code",
    "id": "8Hl9JAz-PvQO"
   },
   "outputs": [],
   "source": [
    "# Find the smallest and put at the first index\n",
    "def selection_sort(arr):\n",
    "    if not arr: return []\n",
    "    min_elem = arr.pop(arr.index(min(arr)))\n",
    "    return [min_elem] + selection_sort(arr)"
   ]
  },
  {
   "cell_type": "code",
   "execution_count": 4,
   "metadata": {
    "colab": {
     "base_uri": "https://localhost:8080/",
     "height": 51
    },
    "colab_type": "code",
    "id": "QnDH5nJFTL4m",
    "outputId": "b9c0073d-47e6-4405-d68b-f5d3d74753d8"
   },
   "outputs": [
    {
     "name": "stdout",
     "output_type": "stream",
     "text": [
      "[]\n",
      "[2, 2, 3, 4, 4.0, 6, 7, 8, 10, 12, 34]\n"
     ]
    }
   ],
   "source": [
    "# Test Cases\n",
    "print(selection_sort([]))\n",
    "print(selection_sort([10,4,4.0,2,2,6,7,8,3,12,34]))"
   ]
  },
  {
   "cell_type": "markdown",
   "metadata": {
    "colab_type": "text",
    "id": "S_KbJNuMP0R3"
   },
   "source": [
    "### Bubble Sort"
   ]
  },
  {
   "cell_type": "code",
   "execution_count": 5,
   "metadata": {
    "colab": {},
    "colab_type": "code",
    "id": "X2PU1S7fP16n"
   },
   "outputs": [],
   "source": [
    "# Go through the array n times and swap two adjacent indexes if not ascending\n",
    "def bubble_sort(arr):\n",
    "    for j in range(len(arr)- 1, 0, -1):\n",
    "        for i in range(0, j):\n",
    "            if arr[i] > arr[i + 1]:\n",
    "                arr[i], arr[i + 1] = arr[i + 1], arr[i]\n",
    "    return arr"
   ]
  },
  {
   "cell_type": "code",
   "execution_count": 6,
   "metadata": {
    "colab": {
     "base_uri": "https://localhost:8080/",
     "height": 51
    },
    "colab_type": "code",
    "id": "wmB9EjbXRzI-",
    "outputId": "a9bad841-0fed-4f13-8fe3-6c13c6d3c884"
   },
   "outputs": [
    {
     "name": "stdout",
     "output_type": "stream",
     "text": [
      "[]\n",
      "[1, 2, 2, 3, 4.0, 4, 6, 7, 8, 12, 34]\n"
     ]
    }
   ],
   "source": [
    "# Test Cases\n",
    "print(bubble_sort([]))\n",
    "print(bubble_sort([1,4.0,4,2,2,6,7,8,3,12,34]))"
   ]
  },
  {
   "cell_type": "markdown",
   "metadata": {
    "colab_type": "text",
    "id": "hT5Z7q_2P2p2"
   },
   "source": [
    "### Insertion Sort"
   ]
  },
  {
   "cell_type": "code",
   "execution_count": 7,
   "metadata": {
    "colab": {},
    "colab_type": "code",
    "id": "9cddziznP2Xo"
   },
   "outputs": [],
   "source": [
    "def insertion_sort(arr):\n",
    "    for i in range(1, len(arr)): \n",
    "        key, j = arr[i], i - 1\n",
    "        while j >= 0 and key < arr[j] : \n",
    "            arr[j+1] = arr[j] \n",
    "            j -= 1\n",
    "        arr[j+1] = key\n",
    "  \n",
    "    return arr"
   ]
  },
  {
   "cell_type": "code",
   "execution_count": 8,
   "metadata": {
    "colab": {
     "base_uri": "https://localhost:8080/",
     "height": 51
    },
    "colab_type": "code",
    "id": "edXPFOuxXxkL",
    "outputId": "71c1c5a7-6854-4c37-8005-822aeaa3785c"
   },
   "outputs": [
    {
     "name": "stdout",
     "output_type": "stream",
     "text": [
      "[]\n",
      "[1, 2, 2, 3, 4.0, 4, 6, 7, 8, 12, 34]\n"
     ]
    }
   ],
   "source": [
    "# Test Cases\n",
    "print(insertion_sort([]))\n",
    "print(insertion_sort([1,4.0,4,2,2,6,7,8,3,12,34]))"
   ]
  },
  {
   "cell_type": "markdown",
   "metadata": {
    "colab_type": "text",
    "id": "AkJdj2ZfP57H"
   },
   "source": [
    "### Heap Sort"
   ]
  },
  {
   "cell_type": "code",
   "execution_count": 9,
   "metadata": {
    "colab": {},
    "colab_type": "code",
    "id": "7oli8CiIP7vf"
   },
   "outputs": [],
   "source": [
    "from heapq import heappop, heapify\n",
    "\n",
    "def heap_sort(arr):\n",
    "    heapify(arr)\n",
    "    sorted_arr = []\n",
    "    while arr:\n",
    "        sorted_arr.append(heappop(arr))\n",
    "    return sorted_arr"
   ]
  },
  {
   "cell_type": "code",
   "execution_count": 10,
   "metadata": {
    "colab": {
     "base_uri": "https://localhost:8080/",
     "height": 51
    },
    "colab_type": "code",
    "id": "LZI9pr6CY1cg",
    "outputId": "f5188cde-9526-4ff7-e102-efccf13b4b5c"
   },
   "outputs": [
    {
     "name": "stdout",
     "output_type": "stream",
     "text": [
      "[]\n",
      "[1, 2, 2, 3, 4, 4.0, 6, 7, 8, 12, 34]\n"
     ]
    }
   ],
   "source": [
    "# Test Cases\n",
    "print(heap_sort([]))\n",
    "print(heap_sort([1,4.0,4,2,2,6,7,8,3,12,34]))"
   ]
  },
  {
   "cell_type": "markdown",
   "metadata": {
    "colab_type": "text",
    "id": "ROVUExNuP8IW"
   },
   "source": [
    "### Merge Sort"
   ]
  },
  {
   "cell_type": "code",
   "execution_count": 11,
   "metadata": {
    "colab": {},
    "colab_type": "code",
    "id": "hVQ-KlF8P9rf"
   },
   "outputs": [],
   "source": [
    "def merge_sort(arr):\n",
    "    if len(arr) <= 1:\n",
    "        return arr\n",
    "\n",
    "    mid = (len(arr) + 1) // 2 # Mid of an array is always len(arr) + 1 // 2. \n",
    "    left = arr[:mid] # NOT inclusive of mid\n",
    "    right = arr[mid:] # Inclusive of mid\n",
    "  \n",
    "    return merge(merge_sort(left), merge_sort(right))\n",
    "\n",
    "def merge(arr_a, arr_b):\n",
    "    merged = []\n",
    "\n",
    "    index_a = index_b = 0\n",
    "\n",
    "    # Both arrays are non-empty\n",
    "    while index_a < len(arr_a) and index_b < len(arr_b):\n",
    "        if arr_a[index_a] < arr_b[index_b]:\n",
    "            merged.append(arr_a[index_a])\n",
    "            index_a += 1\n",
    "        else:\n",
    "            merged.append(arr_b[index_b])\n",
    "            index_b += 1      \n",
    "  \n",
    "    # One of the arrays is empty\n",
    "    while index_a < len(arr_a):\n",
    "        merged.append(arr_a[index_a])\n",
    "        index_a += 1\n",
    "\n",
    "    while index_b < len(arr_b):\n",
    "        merged.append(arr_b[index_b])\n",
    "        index_b += 1\n",
    "\n",
    "    return merged"
   ]
  },
  {
   "cell_type": "code",
   "execution_count": 12,
   "metadata": {
    "colab": {
     "base_uri": "https://localhost:8080/",
     "height": 51
    },
    "colab_type": "code",
    "id": "E760DDc8XvX1",
    "outputId": "0e5da8e3-3b41-4a31-b6fd-d7797cfe185d"
   },
   "outputs": [
    {
     "name": "stdout",
     "output_type": "stream",
     "text": [
      "[]\n",
      "[1, 2, 2, 3, 4, 4.0, 6, 7, 8, 12, 34]\n"
     ]
    }
   ],
   "source": [
    "# Test Cases\n",
    "print(merge_sort([]))\n",
    "print(merge_sort([1,4.0,4,2,2,6,7,8,3,12,34]))"
   ]
  },
  {
   "cell_type": "markdown",
   "metadata": {
    "colab_type": "text",
    "id": "G-YhyIE6ZggS"
   },
   "source": [
    "### In-place Merge Sort"
   ]
  },
  {
   "cell_type": "code",
   "execution_count": 13,
   "metadata": {
    "colab": {},
    "colab_type": "code",
    "id": "Jc-EZzj8Zi4o"
   },
   "outputs": [],
   "source": [
    "def merge_sort(arr):\n",
    "    sort_subarray(arr, 0, len(arr) - 1)\n",
    "\n",
    "def sort_subarray(arr, start, end):\n",
    "    if end - start < 1:\n",
    "        return\n",
    "  \n",
    "    print(arr[start:end + 1])\n",
    "  \n",
    "    if start >= len(arr) or end < 0:\n",
    "        return \n",
    "  \n",
    "    len_of_subarray = end - start + 1\n",
    "    mid = ((len_of_subarray + 1) // 2) + start\n",
    "\n",
    "    sort_subarray(arr, start, mid - 1)\n",
    "    sort_subarray(arr, mid, end)\n",
    "    merge(arr, start, mid - 1, mid, end)\n",
    "\n",
    "def merge(arr, start_a, end_a, start_b, end_b):\n",
    "  \n",
    "    # If already sorted\n",
    "    if arr[end_a] <= arr[start_b]:\n",
    "        return\n",
    "  \n",
    "    while start_a < end_a and start_b < end_b:\n",
    "        if arr[start_a] <= arr[start_b]:\n",
    "            start_a += 1\n",
    "        else:\n",
    "            # Shift all elements accordingly\n",
    "            arr.insert(arr.pop(start_b), start_a)\n",
    "            start_a += 1\n",
    "            start_b += 1\n",
    "            end_a += 1\n",
    "\n",
    "  "
   ]
  },
  {
   "cell_type": "code",
   "execution_count": 14,
   "metadata": {
    "colab": {
     "base_uri": "https://localhost:8080/",
     "height": 238
    },
    "colab_type": "code",
    "id": "CqhtvlSJhsE1",
    "outputId": "48fc176a-4ea8-4c45-ce32-581fd56ef51a"
   },
   "outputs": [
    {
     "name": "stdout",
     "output_type": "stream",
     "text": [
      "None\n",
      "[1, 4.0, 4, 2, 2, 6, 7, 8, 3, 12, 34]\n",
      "[1, 4.0, 4, 2, 2, 6]\n",
      "[1, 4.0, 4]\n",
      "[1, 4.0]\n",
      "[2, 2, 6]\n",
      "[2, 2]\n",
      "[7, 8, 3, 12, 34]\n",
      "[7, 8, 3]\n",
      "[7, 8]\n",
      "[12, 34]\n",
      "None\n",
      "[1, 4.0, 1, 4, 2, 6, 7, 8, 3, 12, 34]\n"
     ]
    }
   ],
   "source": [
    "# Test Cases\n",
    "print(merge_sort([]))\n",
    "r = [1,4.0,4,2,2,6,7,8,3,12,34]\n",
    "print(merge_sort(r))\n",
    "print(r)"
   ]
  },
  {
   "cell_type": "markdown",
   "metadata": {
    "colab_type": "text",
    "id": "t3ScJ6vzP9_V"
   },
   "source": [
    "### Quick Sort"
   ]
  },
  {
   "cell_type": "code",
   "execution_count": 23,
   "metadata": {
    "colab": {},
    "colab_type": "code",
    "id": "39oQn0KUP_jS"
   },
   "outputs": [],
   "source": [
    "from random import randint  # randint is inclusive of start and end\n",
    "\n",
    "def quick_sort(arr):\n",
    "    if len(set(arr)) <= 1:\n",
    "        return arr\n",
    "\n",
    "    pivot = randint(0, len(arr) - 1)\n",
    "    left = [elem for elem in arr if elem <= arr[pivot]]\n",
    "    right = [elem for elem in arr if elem > arr[pivot]]\n",
    "\n",
    "    return quick_sort(left) + quick_sort(right)"
   ]
  },
  {
   "cell_type": "code",
   "execution_count": 24,
   "metadata": {
    "colab": {
     "base_uri": "https://localhost:8080/",
     "height": 51
    },
    "colab_type": "code",
    "id": "Ws6rWfINniTw",
    "outputId": "f51fa939-9a5e-409a-f7c8-4f71be96368d"
   },
   "outputs": [
    {
     "name": "stdout",
     "output_type": "stream",
     "text": [
      "[]\n",
      "[1, 2, 2, 3, 4.0, 4, 6, 7, 8, 12, 34]\n"
     ]
    }
   ],
   "source": [
    "# Test Cases\n",
    "print(quick_sort([]))\n",
    "print(quick_sort([1,4.0,4,2,2,6,7,8,3,12,34]))"
   ]
  },
  {
   "cell_type": "markdown",
   "metadata": {
    "colab_type": "text",
    "id": "1cejdNWDsZKK"
   },
   "source": [
    "### In-place Quick Sort"
   ]
  },
  {
   "cell_type": "code",
   "execution_count": 25,
   "metadata": {
    "colab": {},
    "colab_type": "code",
    "id": "LCPa3X6OscqW"
   },
   "outputs": [],
   "source": [
    "def quicksort(a):\n",
    "    in_place_quicksort(arr, 0, len(a) - 1)\n",
    "    return arr\n",
    "\n",
    "def swap(arr, x, y):\n",
    "    temp = arr[x]\n",
    "    arr[x] = arr[y]\n",
    "    arr[y] = temp\n",
    "\n",
    "def in_place_quicksort(a, start, end):\n",
    "    if start >= end:\n",
    "        return a\n",
    "\n",
    "    pivot_index = random.randint(start, end)\n",
    "    pivot = a[pivot_index]\n",
    "    swap(a, start, pivot_index)\n",
    "\n",
    "    left_ptr = start + 1\n",
    "    right_ptr = end\n",
    "\n",
    "    while (left_ptr < right_ptr):\n",
    "        if a[left_ptr] >  pivot:\n",
    "            if a[right_ptr] < pivot:\n",
    "                swap(a, left_ptr, right_ptr)\n",
    "                left_ptr += 1\n",
    "                right_ptr -= 1\n",
    "            else:\n",
    "                right_ptr -= 1\n",
    "\n",
    "        else:\n",
    "            left_ptr += 1\n",
    "\n",
    "    swap(a, left_ptr, start)\n",
    "    in_place_quicksort(a, start, left_ptr - 1)\n",
    "    in_place_quicksort(a, left_ptr + 1, end)"
   ]
  },
  {
   "cell_type": "code",
   "execution_count": 26,
   "metadata": {
    "colab": {
     "base_uri": "https://localhost:8080/",
     "height": 51
    },
    "colab_type": "code",
    "id": "8BrTihfJsoL7",
    "outputId": "4dcf7423-99a8-45a4-8eaa-5b11a6c11e1d"
   },
   "outputs": [
    {
     "name": "stdout",
     "output_type": "stream",
     "text": [
      "[]\n",
      "[1, 2, 2, 3, 4.0, 4, 6, 7, 8, 12, 34]\n"
     ]
    }
   ],
   "source": [
    "# Test Cases\n",
    "print(quick_sort([]))\n",
    "print(quick_sort([1,4.0,4,2,2,6,7,8,3,12,34]))"
   ]
  },
  {
   "cell_type": "markdown",
   "metadata": {
    "colab_type": "text",
    "id": "VsgWGuhGugvE"
   },
   "source": [
    "### Quick Select"
   ]
  },
  {
   "cell_type": "code",
   "execution_count": 27,
   "metadata": {
    "colab": {},
    "colab_type": "code",
    "id": "VOO1Dallui8h"
   },
   "outputs": [],
   "source": [
    "# T(n) = T(n/2) + n\n",
    "#      = T(n/4) + n/2 + n\n",
    "#      = T(n/16) + n/4 + n/2 + n\n",
    "#      < 2n"
   ]
  },
  {
   "cell_type": "markdown",
   "metadata": {
    "colab_type": "text",
    "id": "Pf335-dgZp_d"
   },
   "source": [
    "## Trees"
   ]
  },
  {
   "cell_type": "code",
   "execution_count": 28,
   "metadata": {
    "colab": {},
    "colab_type": "code",
    "id": "HDjbyRwOv-0l"
   },
   "outputs": [],
   "source": [
    "class BSTNode:\n",
    "    def __init__(self, val, left=None, right=None):\n",
    "        self.val = val\n",
    "        self.left = left\n",
    "        self.right= right"
   ]
  },
  {
   "cell_type": "code",
   "execution_count": 29,
   "metadata": {
    "colab": {},
    "colab_type": "code",
    "id": "vH1MGSs4jGH0"
   },
   "outputs": [],
   "source": [
    "# Height of a tree\n",
    "def height(root):\n",
    "    if not root.left and not root.right:\n",
    "        return 0\n",
    "\n",
    "    if not root.left:\n",
    "        return 1 + height(root.right)\n",
    "\n",
    "    if not root.right:\n",
    "        return 1 + height(root.left)\n",
    "\n",
    "    return 1 + max(height(root.left), height(root.right))"
   ]
  },
  {
   "cell_type": "code",
   "execution_count": 30,
   "metadata": {
    "colab": {},
    "colab_type": "code",
    "id": "BtILZvAxw3cH"
   },
   "outputs": [],
   "source": [
    "# Search in a BST\n",
    "def search(root, value):\n",
    "    if not root:\n",
    "        return \"Not in tree\"\n",
    "    if root.val == value:\n",
    "        return value\n",
    "    elif root.val >= value:\n",
    "        return search(root.left, value)\n",
    "    else:\n",
    "        return search(root.right, value)"
   ]
  },
  {
   "cell_type": "code",
   "execution_count": 15,
   "metadata": {
    "colab": {},
    "colab_type": "code",
    "id": "3bDYNgb_ysQm"
   },
   "outputs": [],
   "source": [
    "# Insert in BST\n",
    "def insert(root, value):\n",
    "    if not root:\n",
    "        return Node(value)\n",
    "  \n",
    "    if value <= root:\n",
    "        if root.left:\n",
    "            insert(root.left, value)\n",
    "        else:\n",
    "            root.left = Node(value)\n",
    "    else:\n",
    "        if root.right:\n",
    "            insert(root.right, value)\n",
    "        else:\n",
    "            root.right = Node(value)\n",
    "\n",
    "# Make tree from array\n",
    "def interative_insert(arr):\n",
    "    if not arr:\n",
    "        return None\n",
    "  \n",
    "    root = Node(arr[0])\n",
    "  \n",
    "    for elem in arr:\n",
    "        insert(root, elem)\n",
    "  \n",
    "    return root"
   ]
  },
  {
   "cell_type": "code",
   "execution_count": 16,
   "metadata": {
    "colab": {},
    "colab_type": "code",
    "id": "WTdwmwmG19kD"
   },
   "outputs": [],
   "source": [
    "# Successor\n",
    "\n",
    "# Left most element of the right subtree\n",
    "# If no right child, climb up the parent tree until you turn right"
   ]
  },
  {
   "cell_type": "code",
   "execution_count": 17,
   "metadata": {
    "colab": {},
    "colab_type": "code",
    "id": "-QQClzhP1_WK"
   },
   "outputs": [],
   "source": [
    "# Delete\n",
    "\n",
    "# No child: Delete\n",
    "# One child: Join child to parent\n",
    "# Two children: 1. Swap with successor\n",
    "#               2. Delete node (Successor has at most one child)"
   ]
  },
  {
   "cell_type": "markdown",
   "metadata": {
    "colab_type": "text",
    "id": "3KEcTorTDTjb"
   },
   "source": [
    "## Graphs"
   ]
  },
  {
   "cell_type": "code",
   "execution_count": 18,
   "metadata": {
    "colab": {},
    "colab_type": "code",
    "id": "x53bTVTgDU9N"
   },
   "outputs": [],
   "source": [
    "# Graphs as adjacency list\n",
    "graph = {'A': ['B', 'F', 'G'],\n",
    "         'B': ['E', 'D', 'A'],\n",
    "         'C': ['E', 'F'],\n",
    "         'D': ['A', 'D', 'B'],\n",
    "         'E': ['C', 'F', 'A'],\n",
    "         'F': ['B', 'D', 'G'],\n",
    "         'G': ['C', 'F', 'A']\n",
    "        }\n",
    "\n",
    "graph2 = {'A': ['C', 'B'],\n",
    "          'B': ['D'],\n",
    "          'C': [],\n",
    "          'D': []\n",
    "         }\n",
    "\n",
    "graph3 = {'A': ['B', 'C', 'D'],\n",
    "          'B': ['E'],\n",
    "          'C': [],\n",
    "          'D': ['E'],\n",
    "          'E': ['B', 'D']\n",
    "         }"
   ]
  },
  {
   "cell_type": "markdown",
   "metadata": {
    "colab_type": "text",
    "id": "XIR4FYxhcyP_"
   },
   "source": [
    "### BFS\n",
    "\n",
    "If you have to set and deal with parent pointers, use this"
   ]
  },
  {
   "cell_type": "code",
   "execution_count": 19,
   "metadata": {
    "colab": {
     "base_uri": "https://localhost:8080/",
     "height": 85
    },
    "colab_type": "code",
    "id": "taVM3c0uc0aU",
    "outputId": "289af010-bde8-4bca-e35f-df8fa49bed45"
   },
   "outputs": [
    {
     "name": "stdout",
     "output_type": "stream",
     "text": [
      "A\n",
      "C\n",
      "B\n",
      "D\n"
     ]
    }
   ],
   "source": [
    "from collections import deque\n",
    "\n",
    "def BFS(graph, source):\n",
    "    queue = deque()\n",
    "    visited = set()\n",
    "\n",
    "    queue.append(source)\n",
    "    visited.add(source)\n",
    "  \n",
    "    while queue:\n",
    "        current_node = queue.popleft()\n",
    "\n",
    "        print(current_node)\n",
    "    \n",
    "        for neighbour in graph[current_node]:\n",
    "            if neighbour not in visited:\n",
    "                visited.add(neighbour)\n",
    "                queue.append(neighbour)\n",
    "\n",
    "BFS(graph2, 'A')"
   ]
  },
  {
   "cell_type": "markdown",
   "metadata": {
    "colab_type": "text",
    "id": "WXqKX8NfiRPL"
   },
   "source": [
    "### DFS"
   ]
  },
  {
   "cell_type": "code",
   "execution_count": 20,
   "metadata": {
    "colab": {
     "base_uri": "https://localhost:8080/",
     "height": 102
    },
    "colab_type": "code",
    "id": "Z6l8Zhk-iSor",
    "outputId": "588f455b-73f2-4ffa-956c-de62a1feaa5e"
   },
   "outputs": [
    {
     "name": "stdout",
     "output_type": "stream",
     "text": [
      "A\n",
      "B\n",
      "E\n",
      "D\n",
      "C\n"
     ]
    }
   ],
   "source": [
    "def DFS(graph, source):\n",
    "    visited = set()\n",
    "  \n",
    "    def DFS_helper(graph, source):\n",
    "        visited.add(source)\n",
    "\n",
    "        print(source)\n",
    "    \n",
    "        for neighbour in graph[source]:\n",
    "            if neighbour not in visited:\n",
    "                DFS_helper(graph, neighbour)\n",
    "  \n",
    "    DFS_helper(graph, source)\n",
    "\n",
    "DFS(graph3, 'A')"
   ]
  },
  {
   "cell_type": "code",
   "execution_count": 22,
   "metadata": {
    "colab": {
     "base_uri": "https://localhost:8080/",
     "height": 102
    },
    "colab_type": "code",
    "id": "VMqAxbCskxGl",
    "outputId": "2783fc7c-e542-4797-fee7-c65fab3f907d"
   },
   "outputs": [
    {
     "name": "stdout",
     "output_type": "stream",
     "text": [
      "A\n",
      "B\n",
      "E\n",
      "D\n",
      "C\n"
     ]
    }
   ],
   "source": [
    "def DFS(graph, source):\n",
    "    visited = set()\n",
    "\n",
    "    def DFS_helper(graph, source):\n",
    "        if source in visited:\n",
    "            return\n",
    "\n",
    "        visited.add(source)\n",
    "\n",
    "        print(source)\n",
    "\n",
    "        for neighbour in graph[source]:\n",
    "            DFS_helper(graph, neighbour)\n",
    "\n",
    "    DFS_helper(graph, source)\n",
    "\n",
    "\n",
    "DFS(graph3, 'A')"
   ]
  },
  {
   "cell_type": "markdown",
   "metadata": {
    "colab_type": "text",
    "id": "P2rJ1EYsgyX0"
   },
   "source": [
    "### Incorrect DFS (replacing queue with stack)"
   ]
  },
  {
   "cell_type": "code",
   "execution_count": 23,
   "metadata": {
    "colab": {
     "base_uri": "https://localhost:8080/",
     "height": 102
    },
    "colab_type": "code",
    "id": "QGDY1ojmg4JN",
    "outputId": "e474ed0b-d6ef-4a95-a972-ca334ec092c5"
   },
   "outputs": [
    {
     "name": "stdout",
     "output_type": "stream",
     "text": [
      "A\n",
      "D\n",
      "E\n",
      "C\n",
      "B\n"
     ]
    }
   ],
   "source": [
    "def incorrect_DFS(graph, source):\n",
    "    stack = deque()\n",
    "    visited = set()\n",
    "\n",
    "    stack.append(source)\n",
    "    visited.add(source)\n",
    "\n",
    "    while stack:\n",
    "        current_node = stack.pop()\n",
    "\n",
    "        print(current_node)\n",
    "\n",
    "        for neighbour in graph[current_node]:\n",
    "            if neighbour not in visited:\n",
    "                visited.add(neighbour)\n",
    "                stack.append(neighbour)\n",
    "\n",
    "\n",
    "incorrect_DFS(graph3, 'A')  # The answer should have been A D E B C or A B E D C"
   ]
  },
  {
   "cell_type": "markdown",
   "metadata": {
    "colab_type": "text",
    "id": "9G7KxtBLcFU-"
   },
   "source": [
    "### BFS and DFS with Queue <> Stack\n",
    "\n",
    "In a normal BFS, a node is marked as visited right after being added to the queue. If in this implementation, the queue had to replaced with a stack, it doesn't become DFS. Here's an example (this is graph 3 from above):\n",
    "\n",
    "<img width=\"300px\" src=\"https://user-images.githubusercontent.com/23443586/61193224-f182b800-a66e-11e9-980d-7dbee4c6dfaa.png\">\n",
    "\n",
    "In the implementation below, a node is marked as visited only when it is popped from the queue. In this implementation, interchanging the queue witha stack brings us from a BFS to a DFS."
   ]
  },
  {
   "cell_type": "code",
   "execution_count": 24,
   "metadata": {
    "colab": {
     "base_uri": "https://localhost:8080/",
     "height": 102
    },
    "colab_type": "code",
    "id": "C38eBlPfD7O1",
    "outputId": "c0bfc458-127e-4d13-b360-82bb8d6fa593"
   },
   "outputs": [
    {
     "name": "stdout",
     "output_type": "stream",
     "text": [
      "A\n",
      "B\n",
      "C\n",
      "D\n",
      "E\n"
     ]
    }
   ],
   "source": [
    "from collections import deque\n",
    "\n",
    "\n",
    "def BFS(graph, source):\n",
    "    queue = deque()\n",
    "    visited = set()\n",
    "    queue.append(source)\n",
    "\n",
    "    while (len(queue) != 0):\n",
    "        current_node = queue.popleft()\n",
    "\n",
    "        if not current_node in visited:\n",
    "            print(current_node)\n",
    "            visited.add(current_node)\n",
    "            for neighbour in graph[current_node]:\n",
    "                queue.append(neighbour)\n",
    "\n",
    "\n",
    "BFS(graph3, 'A')"
   ]
  },
  {
   "cell_type": "code",
   "execution_count": 25,
   "metadata": {
    "colab": {
     "base_uri": "https://localhost:8080/",
     "height": 102
    },
    "colab_type": "code",
    "id": "uuVbZ2luEEiK",
    "outputId": "e7d603d6-5789-4172-a0d4-203c6909a2bb"
   },
   "outputs": [
    {
     "name": "stdout",
     "output_type": "stream",
     "text": [
      "A\n",
      "D\n",
      "E\n",
      "B\n",
      "C\n"
     ]
    }
   ],
   "source": [
    "def DFS(graph, source):\n",
    "    stack = deque()\n",
    "    visited = set()\n",
    "    stack.append(source)\n",
    "\n",
    "    while (len(stack) != 0):\n",
    "        current_node = stack.pop()\n",
    "\n",
    "        if not current_node in visited:\n",
    "            print(current_node)\n",
    "            visited.add(current_node)\n",
    "            for neighbour in graph[current_node]:\n",
    "                stack.append(neighbour)\n",
    "\n",
    "DFS(graph3, 'A')"
   ]
  },
  {
   "cell_type": "markdown",
   "metadata": {
    "colab_type": "text",
    "id": "7EvviElJCAOw"
   },
   "source": [
    "## Union Find Data Structure\n",
    "\n",
    "Two methods:\n",
    "1. Union\n",
    "2. Find\n",
    "\n",
    "Optimsations:\n",
    "1. Path Compression: When executing Find, all the child and grandchild nodes you encounter, set their parent to be the top-most parent\n",
    "2. Rank-based union: When unioning two cliques, put the one with the lower rank below the one with a higher rank\n",
    "\n",
    "<img width=\"800\" src=\"https://user-images.githubusercontent.com/23443586/61196706-5b0dc100-a685-11e9-8a2c-4f5da2af600f.png\">"
   ]
  },
  {
   "cell_type": "code",
   "execution_count": 26,
   "metadata": {
    "colab": {},
    "colab_type": "code",
    "id": "hGXmHAlrCF0I"
   },
   "outputs": [],
   "source": [
    "# Basic implementations\n",
    "def find(x):\n",
    "    if parent[x] == x:\n",
    "        return parent[x]\n",
    "    return find(parent[x])\n",
    "\n",
    "\n",
    "def union(x, y):\n",
    "    xroot, yroot = find(x), find(y)\n",
    "    if xroot == yroot:\n",
    "        return\n",
    "    parent[xroot] = yroot"
   ]
  },
  {
   "cell_type": "code",
   "execution_count": 27,
   "metadata": {
    "colab": {},
    "colab_type": "code",
    "id": "o_hhTpBPC5MK"
   },
   "outputs": [],
   "source": [
    "# With optimisations\n",
    "def find(x):\n",
    "    if parent[x] == x:\n",
    "        return x\n",
    "    root = find(parent[x])\n",
    "    parent[x] = root\n",
    "\n",
    "\n",
    "def union(x, y):\n",
    "    xroot, yroot = find(x), find(y)\n",
    "    if xroot == yroot:\n",
    "        return\n",
    "\n",
    "    if rank[xroot] > rank[yroot]:\n",
    "        parent[yroot] = xroot\n",
    "    elif rank[xroot] < rank[yroot]:\n",
    "        parent[xroot] = yroot\n",
    "    else:\n",
    "        parent[yroot] = xroot\n",
    "        rank[xroot] += 1"
   ]
  }
 ],
 "metadata": {
  "colab": {
   "name": "CS2020.ipynb",
   "provenance": [],
   "toc_visible": true
  },
  "kernelspec": {
   "display_name": "Python 3",
   "language": "python",
   "name": "python3"
  },
  "language_info": {
   "codemirror_mode": {
    "name": "ipython",
    "version": 3
   },
   "file_extension": ".py",
   "mimetype": "text/x-python",
   "name": "python",
   "nbconvert_exporter": "python",
   "pygments_lexer": "ipython3",
   "version": "3.7.6"
  }
 },
 "nbformat": 4,
 "nbformat_minor": 2
}
